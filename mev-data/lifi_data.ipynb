{
 "cells": [
  {
   "cell_type": "code",
   "execution_count": 8,
   "metadata": {},
   "outputs": [
    {
     "name": "stdout",
     "output_type": "stream",
     "text": [
      "Data successfully loaded to table 'silken-mile-379810.crosschain_dataset.lifi_data'.\n"
     ]
    },
    {
     "ename": "KeyboardInterrupt",
     "evalue": "",
     "output_type": "error",
     "traceback": [
      "\u001b[0;31m---------------------------------------------------------------------------\u001b[0m",
      "\u001b[0;31mKeyboardInterrupt\u001b[0m                         Traceback (most recent call last)",
      "Cell \u001b[0;32mIn[8], line 48\u001b[0m\n\u001b[1;32m     45\u001b[0m \u001b[38;5;28;01melse\u001b[39;00m: \n\u001b[1;32m     46\u001b[0m     \u001b[38;5;28;01mpass\u001b[39;00m\n\u001b[0;32m---> 48\u001b[0m \u001b[43mtime\u001b[49m\u001b[38;5;241;43m.\u001b[39;49m\u001b[43msleep\u001b[49m\u001b[43m(\u001b[49m\u001b[38;5;241;43m10\u001b[39;49m\u001b[43m)\u001b[49m\n",
      "\u001b[0;31mKeyboardInterrupt\u001b[0m: "
     ]
    }
   ],
   "source": [
    "import requests\n",
    "import pandas as pd \n",
    "import datetime\n",
    "from dotenv import load_dotenv\n",
    "import os\n",
    "from tqdm import tqdm\n",
    "import utilities\n",
    "import time\n",
    "\n",
    "def get_lifi_data(timestamp):\n",
    "    url = f'https://li.quest/v1/analytics/transfers?fromTimestamp={timestamp}&status=DONE'\n",
    "    df = pd.DataFrame(requests.get(url).json()['transfers'])\n",
    "    if len(df) > 0:\n",
    "        df['timestamp'] = [i[\"timestamp\"] for i in df.sending.values]\n",
    "        df.index = pd.to_datetime(df['timestamp'], unit = 's')\n",
    "        df.rename_axis('DATETIME', inplace=True)\n",
    "        return df \n",
    "    else: \n",
    "        print('This', timestamp, 'has no transfers')\n",
    "\n",
    "\n",
    "if __name__ == \"__main__\":\n",
    "\n",
    "    GOOGLE_CREDENTIALS_PATH = os.getenv(\"GOOGLE_CREDENTIALS_PATH\")\n",
    "    BQ_DATASET_ID = os.getenv(\"CROSSCHAIN_DATASET_ID\")\n",
    "    BQ_TABLE_ID = os.getenv(\"LIFI_TABLE_ID\")\n",
    "\n",
    "    while True:\n",
    "        \n",
    "        start_timestamp = utilities.get_BQ(\n",
    "            \"\"\"\n",
    "            SELECT MAX(TIMESTAMP) AS max_timestamp\n",
    "            FROM `silken-mile-379810.crosschain_dataset.lifi_data`\n",
    "            \"\"\", GOOGLE_CREDENTIALS_PATH)\n",
    "    \n",
    "        timestamp = int(start_timestamp.iloc[0])\n",
    "\n",
    "        # Fetch data from lifi API\n",
    "        df = get_lifi_data(timestamp)\n",
    "        df = df.loc[df.timestamp > timestamp]\n",
    "\n",
    "        # Load data into BigQuery\n",
    "        if len(df) > 0:\n",
    "            utilities.load_to_table(df, BQ_DATASET_ID, BQ_TABLE_ID, GOOGLE_CREDENTIALS_PATH )\n",
    "        else: \n",
    "            pass\n",
    "\n",
    "        time.sleep(10)"
   ]
  }
 ],
 "metadata": {
  "kernelspec": {
   "display_name": "base",
   "language": "python",
   "name": "python3"
  },
  "language_info": {
   "codemirror_mode": {
    "name": "ipython",
    "version": 3
   },
   "file_extension": ".py",
   "mimetype": "text/x-python",
   "name": "python",
   "nbconvert_exporter": "python",
   "pygments_lexer": "ipython3",
   "version": "3.10.12"
  }
 },
 "nbformat": 4,
 "nbformat_minor": 2
}
