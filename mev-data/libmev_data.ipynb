{
 "cells": [
  {
   "cell_type": "code",
   "execution_count": null,
   "metadata": {},
   "outputs": [
    {
     "name": "stdout",
     "output_type": "stream",
     "text": [
      "Data successfully loaded to table 'silken-mile-379810.libmev_dataset.searchers_bundles'.\n"
     ]
    }
   ],
   "source": [
    "import pandas as pd\n",
    "import requests\n",
    "import datetime\n",
    "from dotenv import load_dotenv\n",
    "import os\n",
    "from tqdm import tqdm\n",
    "import utilities\n",
    "\n",
    "load_dotenv()\n",
    "\n",
    "\n",
    "def get_libmev_data(start_date, end_date, interval_minutes=5):\n",
    "    \"\"\"\n",
    "    Fetches data from the libMEV API within a specified date range.\n",
    "    Parameters:\n",
    "        start_date (int): Start timestamp in Unix epoch seconds.\n",
    "        end_date (int): End timestamp in Unix epoch seconds.\n",
    "        interval_minutes (int): Interval for API requests in minutes (default: 5 minutes)\n",
    "    Returns: pd.DataFrame: A DataFrame containing the concatenated data from the API.\n",
    "    \"\"\"\n",
    "    df_final = pd.DataFrame()\n",
    "    interval_seconds = interval_minutes * 60\n",
    "    total_intervals = (end_date - start_date) // interval_seconds\n",
    "\n",
    "\n",
    "    for i in tqdm(range(total_intervals)):\n",
    "        try:\n",
    "            \n",
    "            url = f\"https://api.libmev.com/v1/bundles?timestampRange={end_date - interval_seconds},{end_date}\"\n",
    "\n",
    "            # Fetch and append data\n",
    "            response = requests.get(url)\n",
    "            response.raise_for_status()  # Raise an error for HTTP issues\n",
    "\n",
    "            data = response.json().get(\"data\", [])\n",
    "            if data:\n",
    "                df = pd.DataFrame(data)\n",
    "                df_final = pd.concat([df_final, df], ignore_index=True)\n",
    "\n",
    "            # Update the end_date for the next iteration\n",
    "            end_date -= interval_seconds\n",
    "\n",
    "        except Exception as e:\n",
    "            print(f\"Unexpected error at timestamp {end_date}: {e}\")\n",
    "\n",
    "    # Filter, clean, and preprocess the data\n",
    "    df_final =  df_final.loc[df_final.timestamp > start_date]\n",
    "    df_final.index = pd.to_datetime(df_final.timestamp, unit= 's')\n",
    "    df_final.drop('tokens', axis=1, inplace=True) \n",
    "    df_final.drop('token_balance_delta', axis=1, inplace=True) \n",
    "    df_final.rename_axis('DATETIME', inplace = True)\n",
    "\n",
    "    print(f\"DataFrame successfully created with {len(df_final)} rows.\")\n",
    "    return df_final\n",
    "\n",
    "\n",
    "if __name__ == \"__main__\":\n",
    "\n",
    "    GOOGLE_CREDENTIALS_PATH = os.getenv(\"GOOGLE_CREDENTIALS_PATH\")\n",
    "    BQ_DATASET_ID = os.getenv(\"LIBMEV_DATASET_ID\")\n",
    "    BQ_TABLE_ID = os.getenv(\"LIBMEV_TABLE_ID\")\n",
    "\n",
    "    start_timestamp = utilities.get_BQ(\n",
    "        \"\"\"\n",
    "        SELECT MAX(TIMESTAMP) AS max_timestamp\n",
    "        FROM `silken-mile-379810.libmev_dataset.searchers_bundles`\n",
    "        \"\"\", GOOGLE_CREDENTIALS_PATH)\n",
    "    \n",
    "    start_timestamp = int(start_timestamp.iloc[0])\n",
    "    \n",
    "    start_timestamp = int(datetime.datetime(2024,3,1).timestamp())\n",
    "    end_timestamp = int(datetime.datetime(2024,4,1).timestamp())  \n",
    "\n",
    "    # Fetch data from libMEV\n",
    "    df_libmev = get_libmev_data(start_timestamp, end_timestamp)\n",
    "\n",
    "    # Load data into BigQuery\n",
    "    # utilities.load_to_table(df_libmev, BQ_DATASET_ID, BQ_TABLE_ID, GOOGLE_CREDENTIALS_PATH )"
   ]
  }
 ],
 "metadata": {
  "kernelspec": {
   "display_name": "base",
   "language": "python",
   "name": "python3"
  },
  "language_info": {
   "codemirror_mode": {
    "name": "ipython",
    "version": 3
   },
   "file_extension": ".py",
   "mimetype": "text/x-python",
   "name": "python",
   "nbconvert_exporter": "python",
   "pygments_lexer": "ipython3",
   "version": "3.10.12"
  }
 },
 "nbformat": 4,
 "nbformat_minor": 2
}
