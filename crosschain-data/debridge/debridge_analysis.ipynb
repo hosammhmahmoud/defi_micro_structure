{
 "cells": [
  {
   "cell_type": "code",
   "execution_count": 1,
   "metadata": {},
   "outputs": [],
   "source": [
    "import utilities\n",
    "import pandas as pd \n",
    "import plotly.graph_objects as go"
   ]
  },
  {
   "cell_type": "code",
   "execution_count": 2,
   "metadata": {},
   "outputs": [],
   "source": [
    "df = utilities.get_BQ(\n",
    "\"\"\"\n",
    "WITH FINAL AS (\n",
    "SELECT \n",
    "    ID.ORDERID AS ORDERID, \n",
    "    MakerSRC AS USER_IN,\n",
    "    giveOfferWithMetadata_finalAmount AS AMOUNT_IN, \n",
    "    giveOfferWithMetadata_metadata_decimals AS DECIMAL_IN,\n",
    "    giveOfferWithMetadata_metadata_symbol AS SYMBOL_IN,\n",
    "    createdSrcEventMetadata_transactionHash AS TX_HASH_IN,\n",
    "    giveOfferWithMetadata_CHAINID AS CHAIN_IN,\n",
    "\n",
    "    receiverDst AS USER_OUT,\n",
    "    takeOfferWithMetadata_finalAmount AS AMOUNT_OUT,\n",
    "    takeOfferWithMetadata_metadata_decimals AS DECIMAL_OUT,\n",
    "    takeOfferWithMetadata_metadata_symbol AS SYMBOL_OUT,\n",
    "    fulfilledDstEventMetadata_transactionHash AS TX_HASH_OUT,\n",
    "    takeOfferWithMetadata_CHAINID AS CHAIN_OUT,\n",
    "\n",
    "    preswapData_tokenInMetadata_symbol AS PRE_SYMBOL_IN,\n",
    "    preswapData_tokenInMetadata_decimals AS PRE_DECIMAL_IN,\n",
    "    preswapData_inAmount AS PRE_AMOUNT_IN,\n",
    "    preswapData_outAmount AS PRE_AMOUNT_OUT,\n",
    "    preswapData_tokenOutMetadata_decimals as PRE_DECIMAL_OUT,\n",
    "    preswapData_tokenOutMetadata_symbol AS PRE_SYMBOL_OUT,\n",
    "\n",
    "    taker,\n",
    "    percentFee,\n",
    "    FinalpercentFee,\n",
    "    fixFee,\n",
    "    state,\n",
    "    orderMetadata_origin,\n",
    "    orderMetadata_orderTradeType,\n",
    "\n",
    "    ID.SRC_EVT_TIME,\n",
    "    CASE WHEN LEFT(MakerSRC, 2) != '0x' then 'SOL' \n",
    "        WHEN giveOfferWithMetadata_metadata_symbol = 'S' THEN 'SONIC'\n",
    "        WHEN LEFT(giveOfferWithMetadata_metadata_symbol, 2) = 'sc' THEN 'SONIC'\n",
    "        ELSE ID.SRC_CHAIN END AS SRC_CHAIN,\n",
    "    ID.DEST_EVT_TIME,\n",
    "    CASE WHEN LEFT(receiverDst, 2)!= '0x' THEN 'SOL' \n",
    "        WHEN takeOfferWithMetadata_metadata_symbol = 'S' THEN 'SONIC'\n",
    "        WHEN LEFT(takeOfferWithMetadata_metadata_symbol, 2) = 'sc' THEN 'SONIC'\n",
    "    ELSE ID.DEST_CHAIN END AS DEST_CHAIN \n",
    "\n",
    "   FROM `silken-mile-379810.crosschain_dataset.debridge-data` DATA\n",
    "   LEFT JOIN (\n",
    "    SELECT * FROM `silken-mile-379810.crosschain_dataset.debridge-dune-data`) ID\n",
    "     ON ID.ORDERID = DATA.ORDERID)\n",
    "\n",
    "\n",
    "SELECT * FROM FINAL \n",
    "\"\"\", '/Users/hosammahmoud/Downloads/silken-mile-379810-9a0966a835f1.json')"
   ]
  },
  {
   "cell_type": "code",
   "execution_count": 3,
   "metadata": {},
   "outputs": [
    {
     "data": {
      "text/plain": [
       "Index(['ORDERID', 'USER_IN', 'AMOUNT_IN', 'DECIMAL_IN', 'SYMBOL_IN',\n",
       "       'TX_HASH_IN', 'CHAIN_IN', 'USER_OUT', 'AMOUNT_OUT', 'DECIMAL_OUT',\n",
       "       'SYMBOL_OUT', 'TX_HASH_OUT', 'CHAIN_OUT', 'PRE_SYMBOL_IN',\n",
       "       'PRE_DECIMAL_IN', 'PRE_AMOUNT_IN', 'PRE_AMOUNT_OUT', 'PRE_DECIMAL_OUT',\n",
       "       'PRE_SYMBOL_OUT', 'taker', 'percentFee', 'FinalpercentFee', 'fixFee',\n",
       "       'state', 'orderMetadata_origin', 'orderMetadata_orderTradeType',\n",
       "       'SRC_EVT_TIME', 'SRC_CHAIN', 'DEST_EVT_TIME', 'DEST_CHAIN'],\n",
       "      dtype='object')"
      ]
     },
     "execution_count": 3,
     "metadata": {},
     "output_type": "execute_result"
    }
   ],
   "source": [
    "df.columns"
   ]
  },
  {
   "cell_type": "code",
   "execution_count": 7,
   "metadata": {},
   "outputs": [
    {
     "data": {
      "text/plain": [
       "array([['0xa46a15b3f53011b3a093b904cd8d9c6a0fb181c9334defa5987253055c7148fb',\n",
       "        '0xa0ca7867d1a314bcad3a06bda01de57ff1b9f763',\n",
       "        '806521277647751341', '18', 'ETH',\n",
       "        '0x71cbeb1d62d672f757a9cf584ac3a90d98292024f168a03bfe6e6e8c7d1bd833',\n",
       "        '1', '0x4f21e3d654985976f0008bcd61385220695d88cb',\n",
       "        '805949986657019269', '18.0', 'ETH',\n",
       "        '0x42fb42b47d847f149411caa211d1aee98b5a14e39c13cdf109dd962176f96176',\n",
       "        '100000017', 'USDC', '6.0', '2250695227', '808161287091061379',\n",
       "        '18.0', 'ETH', '0x555ce236c0220695b68341bc48c68d52210cc35b',\n",
       "        '322737606101541', '322737606101541', '1000000000000000',\n",
       "        'ClaimedUnlock', 'DeSwap', 'Market',\n",
       "        '2025-02-05 11:00:47.000 UTC', 'ETH', None, None]], dtype=object)"
      ]
     },
     "execution_count": 7,
     "metadata": {},
     "output_type": "execute_result"
    }
   ],
   "source": [
    "df.loc[df.ORDERID == '0xa46a15b3f53011b3a093b904cd8d9c6a0fb181c9334defa5987253055c7148fb'].values"
   ]
  }
 ],
 "metadata": {
  "kernelspec": {
   "display_name": "base",
   "language": "python",
   "name": "python3"
  },
  "language_info": {
   "codemirror_mode": {
    "name": "ipython",
    "version": 3
   },
   "file_extension": ".py",
   "mimetype": "text/x-python",
   "name": "python",
   "nbconvert_exporter": "python",
   "pygments_lexer": "ipython3",
   "version": "3.10.12"
  }
 },
 "nbformat": 4,
 "nbformat_minor": 2
}
